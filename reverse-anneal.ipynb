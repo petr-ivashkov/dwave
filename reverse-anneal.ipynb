{
 "cells": [
  {
   "cell_type": "code",
   "execution_count": 20,
   "metadata": {},
   "outputs": [],
   "source": [
    "from dwave.system import DWaveSampler, EmbeddingComposite\n",
    "import random\n",
    "\n",
    "# fetch a solver\n",
    "sampler = DWaveSampler()\n",
    "\n",
    "# Define a problem\n",
    "h = {}\n",
    "J = {(30, 31): 1, (30, 45): 1}\n",
    "\n",
    "# Define annealing parameters\n",
    "reverse_schedule = [[0.0, 1.0], [5, 0.45], [99, 0.45], [100, 1.0]]\n",
    "initial = {31: random.randint(0, 1), 30: random.randint(0, 1), 45: random.randint(0, 1)}\n",
    "anneal_params = dict(anneal_schedule=reverse_schedule, initial_state=initial)"
   ]
  },
  {
   "cell_type": "code",
   "execution_count": 21,
   "metadata": {},
   "outputs": [],
   "source": [
    "sampleset = sampler.sample_ising(h, J, **anneal_params)"
   ]
  },
  {
   "cell_type": "code",
   "execution_count": 22,
   "metadata": {},
   "outputs": [
    {
     "data": {
      "text/plain": [
       "Sample(sample={30: -1, 31: 1, 45: 1}, energy=-2.0, num_occurrences=1)"
      ]
     },
     "execution_count": 22,
     "metadata": {},
     "output_type": "execute_result"
    }
   ],
   "source": [
    "sampleset.first"
   ]
  }
 ],
 "metadata": {
  "interpreter": {
   "hash": "b23e9a728d5830d362301019546a24f21495034719b9366da1d926021c5ccbe3"
  },
  "kernelspec": {
   "display_name": "Python 3.8.8 ('ocean': venv)",
   "language": "python",
   "name": "python3"
  },
  "language_info": {
   "codemirror_mode": {
    "name": "ipython",
    "version": 3
   },
   "file_extension": ".py",
   "mimetype": "text/x-python",
   "name": "python",
   "nbconvert_exporter": "python",
   "pygments_lexer": "ipython3",
   "version": "3.8.8"
  },
  "orig_nbformat": 4
 },
 "nbformat": 4,
 "nbformat_minor": 2
}
