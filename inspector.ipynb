{
 "cells": [
  {
   "cell_type": "code",
   "execution_count": 10,
   "metadata": {},
   "outputs": [
    {
     "name": "stdout",
     "output_type": "stream",
     "text": [
      "False\n"
     ]
    }
   ],
   "source": [
    "import dwave.inspector\n",
    "from dimod import DWaveSampler\n",
    "from dwave.system import DWaveSampler, EmbeddingComposite\n",
    "\n",
    "# Get solver\n",
    "sampler = DWaveSampler(solver=dict(qpu=True))\n",
    "\n",
    "# Define a problem\n",
    "h = {}\n",
    "J = {(0, 4): 1, (0, 5): 1, (1, 4): 1, (1, 5): -1}\n",
    "print(all(edge in sampler.edgelist for edge in J))"
   ]
  },
  {
   "cell_type": "code",
   "execution_count": 3,
   "metadata": {},
   "outputs": [],
   "source": [
    "# Sample\n",
    "response = sampler.sample_ising(h, J, num_reads=0)"
   ]
  },
  {
   "cell_type": "code",
   "execution_count": 4,
   "metadata": {},
   "outputs": [
    {
     "data": {
      "text/plain": [
       "'http://127.0.0.1:18000/?problemId=a924f562-9a42-4b05-be7c-ab7e5845d061'"
      ]
     },
     "execution_count": 4,
     "metadata": {},
     "output_type": "execute_result"
    }
   ],
   "source": [
    "dwave.inspector.show(response)"
   ]
  },
  {
   "cell_type": "code",
   "execution_count": 8,
   "metadata": {},
   "outputs": [],
   "source": [
    "# Define problem\n",
    "bqm = BQM.from_ising({}, {'ab': 1, 'bc': 1, 'ca': 1})\n",
    "\n",
    "# Get sampler\n",
    "sampler = EmbeddingComposite(DWaveSampler(solver=dict(qpu=True)))\n",
    "\n",
    "# Sample with low chain strength\n",
    "sampleset = sampler.sample(bqm, num_reads=10, chain_strength=0.1)"
   ]
  },
  {
   "cell_type": "code",
   "execution_count": 9,
   "metadata": {},
   "outputs": [
    {
     "data": {
      "text/plain": [
       "'http://127.0.0.1:18000/?problemId=4b550d54-360c-4fa4-98e3-b111608c6416'"
      ]
     },
     "execution_count": 9,
     "metadata": {},
     "output_type": "execute_result"
    }
   ],
   "source": [
    "dwave.inspector.show(sampleset)"
   ]
  }
 ],
 "metadata": {
  "interpreter": {
   "hash": "b23e9a728d5830d362301019546a24f21495034719b9366da1d926021c5ccbe3"
  },
  "kernelspec": {
   "display_name": "Python 3.8.8 ('ocean': venv)",
   "language": "python",
   "name": "python3"
  },
  "language_info": {
   "codemirror_mode": {
    "name": "ipython",
    "version": 3
   },
   "file_extension": ".py",
   "mimetype": "text/x-python",
   "name": "python",
   "nbconvert_exporter": "python",
   "pygments_lexer": "ipython3",
   "version": "3.8.8"
  },
  "orig_nbformat": 4
 },
 "nbformat": 4,
 "nbformat_minor": 2
}
